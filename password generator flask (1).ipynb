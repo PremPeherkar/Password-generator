{
 "cells": [
  {
   "cell_type": "markdown",
   "id": "e498d255",
   "metadata": {},
   "source": [
    " #  **PYPR-10-Password Generator**\n",
    "\n",
    "**Project** : Password generator Application using Flask.  \n",
    "\n",
    "**Name** : Prem Sunil Peherkar\n",
    "\n",
    "\n",
    "\n"
   ]
  },
  {
   "cell_type": "markdown",
   "id": "5d2071e0",
   "metadata": {},
   "source": [
    "###  **Objective:**  \n",
    "To create a secure password generator web application using **Python** and the **Flask** web framework. The app allows users to specify the password length and generates a strong password containing a mix of uppercase, lowercase letters, digits, and special characters."
   ]
  },
  {
   "cell_type": "code",
   "execution_count": 1,
   "id": "6756a765",
   "metadata": {},
   "outputs": [
    {
     "name": "stdout",
     "output_type": "stream",
     "text": [
      "Requirement already satisfied: flask in c:\\users\\admin\\anaconda3\\lib\\site-packages (3.0.3)\n",
      "Requirement already satisfied: Werkzeug>=3.0.0 in c:\\users\\admin\\anaconda3\\lib\\site-packages (from flask) (3.0.3)\n",
      "Requirement already satisfied: Jinja2>=3.1.2 in c:\\users\\admin\\anaconda3\\lib\\site-packages (from flask) (3.1.4)\n",
      "Requirement already satisfied: itsdangerous>=2.1.2 in c:\\users\\admin\\anaconda3\\lib\\site-packages (from flask) (2.2.0)\n",
      "Requirement already satisfied: click>=8.1.3 in c:\\users\\admin\\anaconda3\\lib\\site-packages (from flask) (8.1.7)\n",
      "Requirement already satisfied: blinker>=1.6.2 in c:\\users\\admin\\anaconda3\\lib\\site-packages (from flask) (1.6.2)\n",
      "Requirement already satisfied: colorama in c:\\users\\admin\\anaconda3\\lib\\site-packages (from click>=8.1.3->flask) (0.4.6)\n",
      "Requirement already satisfied: MarkupSafe>=2.0 in c:\\users\\admin\\anaconda3\\lib\\site-packages (from Jinja2>=3.1.2->flask) (2.1.3)\n",
      "Note: you may need to restart the kernel to use updated packages.\n"
     ]
    }
   ],
   "source": [
    "pip install flask"
   ]
  },
  {
   "cell_type": "markdown",
   "id": "192dae57",
   "metadata": {},
   "source": [
    "###  **Technologies & Tools Used:**\n",
    "\n",
    "| Tool/Library  | Purpose                                |\n",
    "|---------------|----------------------------------------|\n",
    "| Python        | Core programming language              |\n",
    "| Flask         | Web application framework              |\n",
    "| HTML & CSS    | Front-end layout and styling           |\n",
    "| threading     | Enables Flask to run inside notebooks  |\n",
    "| string, random| Used for password generation logic     |"
   ]
  },
  {
   "cell_type": "markdown",
   "id": "4e9d87bd",
   "metadata": {},
   "source": [
    "###  **Application Features:**\n",
    "\n",
    "1. **User Input for Length:** Allows the user to define password length (minimum 4 characters).\n",
    "2. **Strong Passwords:** Ensures at least one character from each category:\n",
    "   - Uppercase (A–Z)\n",
    "   - Lowercase (a–z)\n",
    "   - Digits (0–9)\n",
    "   - Special characters (!, @, #, etc.)\n",
    "3. **Clipboard Copy:** Users can easily copy the password using a \"Copy\" button.\n",
    "4. **Responsive Web Interface:** Clean, dark-themed UI with interactive buttons and form handling."
   ]
  },
  {
   "cell_type": "code",
   "execution_count": null,
   "id": "66e87605",
   "metadata": {},
   "outputs": [],
   "source": [
    "from flask import Flask, request, render_template_string\n",
    "import random\n",
    "import string\n",
    "import threading   #  keep this if you’ll launch from a notebook\n",
    "\n",
    "app = Flask(__name__)\n"
   ]
  },
  {
   "cell_type": "markdown",
   "id": "297903ba",
   "metadata": {},
   "source": [
    "#### 1. **HTML Template (UI Layer):**\n",
    "- A form with:\n",
    "  - A number input field for the password length.\n",
    "  - A submit button to generate a password.\n",
    "- Conditional block (`{% if password %}`) to show generated password and a \"Copy\" button.\n",
    "- JavaScript clipboard function to copy the password.\n"
   ]
  },
  {
   "cell_type": "code",
   "execution_count": null,
   "id": "e99fac0f",
   "metadata": {},
   "outputs": [],
   "source": [
    "HTML_TEMPLATE = \"\"\"\n",
    "<!DOCTYPE html>\n",
    "<html>\n",
    "<head>\n",
    "    <title>Password Generator</title>\n",
    "    <style>\n",
    "        body{font-family:Arial,Helvetica,sans-serif;background:#1e1e2f;color:#fff;text-align:center;padding-top:50px;margin:0}\n",
    "        input,button{padding:10px;margin-top:10px;font-size:18px;border-radius:6px;border:none}\n",
    "        button{background:#00e676;color:#000;cursor:pointer}\n",
    "        button:hover{filter:brightness(1.1)}\n",
    "        .password{margin-top:20px;font-weight:bold;color:#00e676;word-break:break-all}\n",
    "    </style>\n",
    "</head>\n",
    "<body>\n",
    "    <h1>Password Generator</h1>\n",
    "    <form method=\"POST\">\n",
    "        <label>Password Length:</label><br>\n",
    "        <input type=\"number\" name=\"length\" min=\"4\" required value=\"{{ request.form.length or 12 }}\"><br>\n",
    "        <button type=\"submit\">Generate Password</button>\n",
    "    </form>\n",
    "\n",
    "    {% if password %}\n",
    "    <div class=\"password\">\n",
    "        Generated Password: {{ password }}\n",
    "        <button onclick=\"copyPassword()\">Copy</button>\n",
    "    </div>\n",
    "    {% endif %}\n",
    "\n",
    "    <script>\n",
    "    function copyPassword(){\n",
    "        const text = \"{{ password|e }}\";\n",
    "        if(!text) return;\n",
    "        navigator.clipboard.writeText(text).then(()=>alert(\"Password copied!\"));\n",
    "    }\n",
    "    </script>\n",
    "</body>\n",
    "</html>\n",
    "\"\"\"\n",
    "\n"
   ]
  },
  {
   "cell_type": "markdown",
   "id": "9b70837f",
   "metadata": {},
   "source": [
    "#### 2. **Password Generator Function:**\n",
    "```python\n",
    "def generate_password(length: int) -> str:\n",
    "    ...\n",
    "```\n",
    "- Uses the `string` module to define character pools.\n",
    "- Guarantees inclusion of each character type.\n",
    "- Randomly fills remaining characters.\n",
    "- Shuffles the final result for randomness.\n"
   ]
  },
  {
   "cell_type": "code",
   "execution_count": null,
   "id": "aef48c38",
   "metadata": {},
   "outputs": [],
   "source": [
    "\n",
    "def generate_password(length:int)->str:\n",
    "    if length < 4:\n",
    "        return \"Password length must be at least 4\"\n",
    "\n",
    "    pools = {\n",
    "        \"upper\": string.ascii_uppercase,\n",
    "        \"lower\": string.ascii_lowercase,\n",
    "        \"digits\": string.digits,\n",
    "        \"special\": string.punctuation\n",
    "    }\n",
    "\n",
    "   \n",
    "    pwd = [random.choice(pools[\"upper\"]),\n",
    "           random.choice(pools[\"lower\"]),\n",
    "           random.choice(pools[\"digits\"]),\n",
    "           random.choice(pools[\"special\"])]\n",
    "\n",
    "   \n",
    "    all_chars = ''.join(pools.values())\n",
    "    pwd += random.choices(all_chars, k=length - 4)\n",
    "    random.shuffle(pwd)\n",
    "    return ''.join(pwd)"
   ]
  },
  {
   "cell_type": "markdown",
   "id": "47ef2a52",
   "metadata": {},
   "source": [
    "#### 3. **Flask Backend:**\n",
    "'''\n",
    "@app.route(\"/\", methods=[\"GET\", \"POST\"])\n",
    "def index():\n",
    "    ...\n",
    "'''\n",
    "- Renders the template with `render_template_string()`.\n",
    "- Processes the form data using `request.form`.\n",
    "- Passes the generated password back to the HTML template."
   ]
  },
  {
   "cell_type": "code",
   "execution_count": null,
   "id": "6a994390",
   "metadata": {},
   "outputs": [],
   "source": [
    "\n",
    "@app.route(\"/\", methods=[\"GET\", \"POST\"])\n",
    "def index():\n",
    "    password = \"\"\n",
    "    if request.method == \"POST\":\n",
    "        length = int(request.form.get(\"length\", 12))\n",
    "        password = generate_password(length)\n",
    "   \n",
    "    return render_template_string(HTML_TEMPLATE, password=password, request=request)\n"
   ]
  },
  {
   "cell_type": "code",
   "execution_count": null,
   "id": "0870edd8",
   "metadata": {},
   "outputs": [
    {
     "name": "stdout",
     "output_type": "stream",
     "text": [
      " * Serving Flask app '__main__'\n",
      " * Debug mode: off\n"
     ]
    },
    {
     "name": "stderr",
     "output_type": "stream",
     "text": [
      "WARNING: This is a development server. Do not use it in a production deployment. Use a production WSGI server instead.\n",
      " * Running on http://127.0.0.1:8080\n",
      "Press CTRL+C to quit\n",
      "127.0.0.1 - - [01/Jul/2025 16:21:37] \"GET / HTTP/1.1\" 200 -\n",
      "127.0.0.1 - - [01/Jul/2025 16:21:37] \"GET / HTTP/1.1\" 200 -\n",
      "127.0.0.1 - - [01/Jul/2025 16:21:38] \"GET / HTTP/1.1\" 200 -\n",
      "127.0.0.1 - - [01/Jul/2025 16:21:38] \"GET /favicon.ico HTTP/1.1\" 404 -\n",
      "127.0.0.1 - - [01/Jul/2025 16:21:52] \"POST / HTTP/1.1\" 200 -\n"
     ]
    }
   ],
   "source": [
    "\n",
    "def run_app():\n",
    "    # set use_reloader=False so it works inside notebooks\n",
    "    app.run(debug=False, port=8080, use_reloader=False)\n",
    "\n",
    "# If running in a Jupyter/Colab notebook:\n",
    "# threading.Thread(target=run_app).start()\n",
    "\n",
    "# If running as a normal script:\n",
    "if __name__ == \"__main__\":\n",
    "    run_app()\n"
   ]
  },
  {
   "cell_type": "markdown",
   "id": "2650c59c",
   "metadata": {},
   "source": [
    "###  **Application Flow:**\n",
    "User Input Length -> Form Submit -> POST Request\n",
    "-> Password Generated in Python \n",
    "-> HTML Template Rendered with Password \n",
    "-> Password Displayed + Copy Button \n"
   ]
  },
  {
   "cell_type": "markdown",
   "id": "3e48896e",
   "metadata": {},
   "source": [
    "### ***References***\n",
    "\n",
    "- [Flask Documentation](https://flask.palletsprojects.com/)\n",
    "- [Python threading](https://docs.python.org/3/library/threading.html)\n",
    "- JavaScript copy button - Chat GPT"
   ]
  }
 ],
 "metadata": {
  "kernelspec": {
   "display_name": "base",
   "language": "python",
   "name": "python3"
  },
  "language_info": {
   "codemirror_mode": {
    "name": "ipython",
    "version": 3
   },
   "file_extension": ".py",
   "mimetype": "text/x-python",
   "name": "python",
   "nbconvert_exporter": "python",
   "pygments_lexer": "ipython3",
   "version": "3.12.7"
  }
 },
 "nbformat": 4,
 "nbformat_minor": 5
}
